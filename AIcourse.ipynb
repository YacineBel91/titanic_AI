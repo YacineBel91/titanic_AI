{
  "nbformat": 4,
  "nbformat_minor": 0,
  "metadata": {
    "colab": {
      "name": "AIcourse",
      "provenance": [],
      "collapsed_sections": [],
      "include_colab_link": true
    },
    "kernelspec": {
      "name": "python3",
      "display_name": "Python 3"
    }
  },
  "cells": [
    {
      "cell_type": "markdown",
      "metadata": {
        "id": "view-in-github",
        "colab_type": "text"
      },
      "source": [
        "<a href=\"https://colab.research.google.com/github/YacineBel91/titanic_AI/blob/main/AIcourse.ipynb\" target=\"_parent\"><img src=\"https://colab.research.google.com/assets/colab-badge.svg\" alt=\"Open In Colab\"/></a>"
      ]
    },
    {
      "cell_type": "code",
      "metadata": {
        "id": "uCqv859MH3G9",
        "outputId": "0f14371b-0802-4055-c440-1972cbe55cac",
        "colab": {
          "base_uri": "https://localhost:8080/"
        }
      },
      "source": [
        "#!!!!!!!!! Always execute this tab and never remove it, it mounts our Google Drive as the disk we use, we will always keep the files in the shared section of our GDrive\n",
        "from google.colab import drive\n",
        "drive.mount('/content/drive')"
      ],
      "execution_count": null,
      "outputs": [
        {
          "output_type": "stream",
          "text": [
            "Mounted at /content/drive\n"
          ],
          "name": "stdout"
        }
      ]
    },
    {
      "cell_type": "code",
      "metadata": {
        "id": "u1f-tkqrbkYD"
      },
      "source": [
        "import numpy as np \n",
        "import pandas as pd\n",
        "from sklearn.preprocessing import MinMaxScaler\n",
        "import matplotlib.pyplot as plt\n",
        "import seaborn as sns\n",
        "\n",
        "from sklearn.discriminant_analysis import LinearDiscriminantAnalysis\n",
        "from sklearn.preprocessing import LabelEncoder\n",
        "from sklearn.tree import DecisionTreeClassifier\n",
        "from sklearn.model_selection import train_test_split\n",
        "from sklearn.metrics import confusion_matrix\n",
        "from sklearn.linear_model import LogisticRegression\n",
        "from sklearn.model_selection import train_test_split\n",
        "from sklearn.model_selection import KFold\n",
        "\n",
        "\n",
        "from sklearn.neighbors import KNeighborsClassifier\n",
        "\n",
        "from sklearn.preprocessing import StandardScaler"
      ],
      "execution_count": null,
      "outputs": []
    },
    {
      "cell_type": "code",
      "metadata": {
        "id": "KQypxNChb701",
        "outputId": "6a74999d-777c-4338-af05-cd807d46b33a",
        "colab": {
          "base_uri": "https://localhost:8080/",
          "height": 455
        }
      },
      "source": [
        "titanic_test = pd.read_csv ('/content/drive/Shared drives/AI/test.csv', index_col=\"PassengerId\")\n",
        "titanic_test"
      ],
      "execution_count": null,
      "outputs": [
        {
          "output_type": "execute_result",
          "data": {
            "text/html": [
              "<div>\n",
              "<style scoped>\n",
              "    .dataframe tbody tr th:only-of-type {\n",
              "        vertical-align: middle;\n",
              "    }\n",
              "\n",
              "    .dataframe tbody tr th {\n",
              "        vertical-align: top;\n",
              "    }\n",
              "\n",
              "    .dataframe thead th {\n",
              "        text-align: right;\n",
              "    }\n",
              "</style>\n",
              "<table border=\"1\" class=\"dataframe\">\n",
              "  <thead>\n",
              "    <tr style=\"text-align: right;\">\n",
              "      <th></th>\n",
              "      <th>Pclass</th>\n",
              "      <th>Name</th>\n",
              "      <th>Sex</th>\n",
              "      <th>Age</th>\n",
              "      <th>SibSp</th>\n",
              "      <th>Parch</th>\n",
              "      <th>Ticket</th>\n",
              "      <th>Fare</th>\n",
              "      <th>Cabin</th>\n",
              "      <th>Embarked</th>\n",
              "    </tr>\n",
              "    <tr>\n",
              "      <th>PassengerId</th>\n",
              "      <th></th>\n",
              "      <th></th>\n",
              "      <th></th>\n",
              "      <th></th>\n",
              "      <th></th>\n",
              "      <th></th>\n",
              "      <th></th>\n",
              "      <th></th>\n",
              "      <th></th>\n",
              "      <th></th>\n",
              "    </tr>\n",
              "  </thead>\n",
              "  <tbody>\n",
              "    <tr>\n",
              "      <th>892</th>\n",
              "      <td>3</td>\n",
              "      <td>Kelly, Mr. James</td>\n",
              "      <td>male</td>\n",
              "      <td>34.5</td>\n",
              "      <td>0</td>\n",
              "      <td>0</td>\n",
              "      <td>330911</td>\n",
              "      <td>7.8292</td>\n",
              "      <td>NaN</td>\n",
              "      <td>Q</td>\n",
              "    </tr>\n",
              "    <tr>\n",
              "      <th>893</th>\n",
              "      <td>3</td>\n",
              "      <td>Wilkes, Mrs. James (Ellen Needs)</td>\n",
              "      <td>female</td>\n",
              "      <td>47.0</td>\n",
              "      <td>1</td>\n",
              "      <td>0</td>\n",
              "      <td>363272</td>\n",
              "      <td>7.0000</td>\n",
              "      <td>NaN</td>\n",
              "      <td>S</td>\n",
              "    </tr>\n",
              "    <tr>\n",
              "      <th>894</th>\n",
              "      <td>2</td>\n",
              "      <td>Myles, Mr. Thomas Francis</td>\n",
              "      <td>male</td>\n",
              "      <td>62.0</td>\n",
              "      <td>0</td>\n",
              "      <td>0</td>\n",
              "      <td>240276</td>\n",
              "      <td>9.6875</td>\n",
              "      <td>NaN</td>\n",
              "      <td>Q</td>\n",
              "    </tr>\n",
              "    <tr>\n",
              "      <th>895</th>\n",
              "      <td>3</td>\n",
              "      <td>Wirz, Mr. Albert</td>\n",
              "      <td>male</td>\n",
              "      <td>27.0</td>\n",
              "      <td>0</td>\n",
              "      <td>0</td>\n",
              "      <td>315154</td>\n",
              "      <td>8.6625</td>\n",
              "      <td>NaN</td>\n",
              "      <td>S</td>\n",
              "    </tr>\n",
              "    <tr>\n",
              "      <th>896</th>\n",
              "      <td>3</td>\n",
              "      <td>Hirvonen, Mrs. Alexander (Helga E Lindqvist)</td>\n",
              "      <td>female</td>\n",
              "      <td>22.0</td>\n",
              "      <td>1</td>\n",
              "      <td>1</td>\n",
              "      <td>3101298</td>\n",
              "      <td>12.2875</td>\n",
              "      <td>NaN</td>\n",
              "      <td>S</td>\n",
              "    </tr>\n",
              "    <tr>\n",
              "      <th>...</th>\n",
              "      <td>...</td>\n",
              "      <td>...</td>\n",
              "      <td>...</td>\n",
              "      <td>...</td>\n",
              "      <td>...</td>\n",
              "      <td>...</td>\n",
              "      <td>...</td>\n",
              "      <td>...</td>\n",
              "      <td>...</td>\n",
              "      <td>...</td>\n",
              "    </tr>\n",
              "    <tr>\n",
              "      <th>1305</th>\n",
              "      <td>3</td>\n",
              "      <td>Spector, Mr. Woolf</td>\n",
              "      <td>male</td>\n",
              "      <td>NaN</td>\n",
              "      <td>0</td>\n",
              "      <td>0</td>\n",
              "      <td>A.5. 3236</td>\n",
              "      <td>8.0500</td>\n",
              "      <td>NaN</td>\n",
              "      <td>S</td>\n",
              "    </tr>\n",
              "    <tr>\n",
              "      <th>1306</th>\n",
              "      <td>1</td>\n",
              "      <td>Oliva y Ocana, Dona. Fermina</td>\n",
              "      <td>female</td>\n",
              "      <td>39.0</td>\n",
              "      <td>0</td>\n",
              "      <td>0</td>\n",
              "      <td>PC 17758</td>\n",
              "      <td>108.9000</td>\n",
              "      <td>C105</td>\n",
              "      <td>C</td>\n",
              "    </tr>\n",
              "    <tr>\n",
              "      <th>1307</th>\n",
              "      <td>3</td>\n",
              "      <td>Saether, Mr. Simon Sivertsen</td>\n",
              "      <td>male</td>\n",
              "      <td>38.5</td>\n",
              "      <td>0</td>\n",
              "      <td>0</td>\n",
              "      <td>SOTON/O.Q. 3101262</td>\n",
              "      <td>7.2500</td>\n",
              "      <td>NaN</td>\n",
              "      <td>S</td>\n",
              "    </tr>\n",
              "    <tr>\n",
              "      <th>1308</th>\n",
              "      <td>3</td>\n",
              "      <td>Ware, Mr. Frederick</td>\n",
              "      <td>male</td>\n",
              "      <td>NaN</td>\n",
              "      <td>0</td>\n",
              "      <td>0</td>\n",
              "      <td>359309</td>\n",
              "      <td>8.0500</td>\n",
              "      <td>NaN</td>\n",
              "      <td>S</td>\n",
              "    </tr>\n",
              "    <tr>\n",
              "      <th>1309</th>\n",
              "      <td>3</td>\n",
              "      <td>Peter, Master. Michael J</td>\n",
              "      <td>male</td>\n",
              "      <td>NaN</td>\n",
              "      <td>1</td>\n",
              "      <td>1</td>\n",
              "      <td>2668</td>\n",
              "      <td>22.3583</td>\n",
              "      <td>NaN</td>\n",
              "      <td>C</td>\n",
              "    </tr>\n",
              "  </tbody>\n",
              "</table>\n",
              "<p>418 rows × 10 columns</p>\n",
              "</div>"
            ],
            "text/plain": [
              "             Pclass  ... Embarked\n",
              "PassengerId          ...         \n",
              "892               3  ...        Q\n",
              "893               3  ...        S\n",
              "894               2  ...        Q\n",
              "895               3  ...        S\n",
              "896               3  ...        S\n",
              "...             ...  ...      ...\n",
              "1305              3  ...        S\n",
              "1306              1  ...        C\n",
              "1307              3  ...        S\n",
              "1308              3  ...        S\n",
              "1309              3  ...        C\n",
              "\n",
              "[418 rows x 10 columns]"
            ]
          },
          "metadata": {
            "tags": []
          },
          "execution_count": 3
        }
      ]
    },
    {
      "cell_type": "code",
      "metadata": {
        "id": "CqS5sOhUb8rr",
        "outputId": "058b054c-eb74-44df-b8fb-d8bb23f125d1",
        "colab": {
          "base_uri": "https://localhost:8080/",
          "height": 455
        }
      },
      "source": [
        "titanic_train = pd.read_csv ('/content/drive/Shared drives/AI/train.csv',index_col=\"PassengerId\")\n",
        "titanic_train"
      ],
      "execution_count": null,
      "outputs": [
        {
          "output_type": "execute_result",
          "data": {
            "text/html": [
              "<div>\n",
              "<style scoped>\n",
              "    .dataframe tbody tr th:only-of-type {\n",
              "        vertical-align: middle;\n",
              "    }\n",
              "\n",
              "    .dataframe tbody tr th {\n",
              "        vertical-align: top;\n",
              "    }\n",
              "\n",
              "    .dataframe thead th {\n",
              "        text-align: right;\n",
              "    }\n",
              "</style>\n",
              "<table border=\"1\" class=\"dataframe\">\n",
              "  <thead>\n",
              "    <tr style=\"text-align: right;\">\n",
              "      <th></th>\n",
              "      <th>Survived</th>\n",
              "      <th>Pclass</th>\n",
              "      <th>Name</th>\n",
              "      <th>Sex</th>\n",
              "      <th>Age</th>\n",
              "      <th>SibSp</th>\n",
              "      <th>Parch</th>\n",
              "      <th>Ticket</th>\n",
              "      <th>Fare</th>\n",
              "      <th>Cabin</th>\n",
              "      <th>Embarked</th>\n",
              "    </tr>\n",
              "    <tr>\n",
              "      <th>PassengerId</th>\n",
              "      <th></th>\n",
              "      <th></th>\n",
              "      <th></th>\n",
              "      <th></th>\n",
              "      <th></th>\n",
              "      <th></th>\n",
              "      <th></th>\n",
              "      <th></th>\n",
              "      <th></th>\n",
              "      <th></th>\n",
              "      <th></th>\n",
              "    </tr>\n",
              "  </thead>\n",
              "  <tbody>\n",
              "    <tr>\n",
              "      <th>1</th>\n",
              "      <td>0</td>\n",
              "      <td>3</td>\n",
              "      <td>Braund, Mr. Owen Harris</td>\n",
              "      <td>male</td>\n",
              "      <td>22.0</td>\n",
              "      <td>1</td>\n",
              "      <td>0</td>\n",
              "      <td>A/5 21171</td>\n",
              "      <td>7.2500</td>\n",
              "      <td>NaN</td>\n",
              "      <td>S</td>\n",
              "    </tr>\n",
              "    <tr>\n",
              "      <th>2</th>\n",
              "      <td>1</td>\n",
              "      <td>1</td>\n",
              "      <td>Cumings, Mrs. John Bradley (Florence Briggs Th...</td>\n",
              "      <td>female</td>\n",
              "      <td>38.0</td>\n",
              "      <td>1</td>\n",
              "      <td>0</td>\n",
              "      <td>PC 17599</td>\n",
              "      <td>71.2833</td>\n",
              "      <td>C85</td>\n",
              "      <td>C</td>\n",
              "    </tr>\n",
              "    <tr>\n",
              "      <th>3</th>\n",
              "      <td>1</td>\n",
              "      <td>3</td>\n",
              "      <td>Heikkinen, Miss. Laina</td>\n",
              "      <td>female</td>\n",
              "      <td>26.0</td>\n",
              "      <td>0</td>\n",
              "      <td>0</td>\n",
              "      <td>STON/O2. 3101282</td>\n",
              "      <td>7.9250</td>\n",
              "      <td>NaN</td>\n",
              "      <td>S</td>\n",
              "    </tr>\n",
              "    <tr>\n",
              "      <th>4</th>\n",
              "      <td>1</td>\n",
              "      <td>1</td>\n",
              "      <td>Futrelle, Mrs. Jacques Heath (Lily May Peel)</td>\n",
              "      <td>female</td>\n",
              "      <td>35.0</td>\n",
              "      <td>1</td>\n",
              "      <td>0</td>\n",
              "      <td>113803</td>\n",
              "      <td>53.1000</td>\n",
              "      <td>C123</td>\n",
              "      <td>S</td>\n",
              "    </tr>\n",
              "    <tr>\n",
              "      <th>5</th>\n",
              "      <td>0</td>\n",
              "      <td>3</td>\n",
              "      <td>Allen, Mr. William Henry</td>\n",
              "      <td>male</td>\n",
              "      <td>35.0</td>\n",
              "      <td>0</td>\n",
              "      <td>0</td>\n",
              "      <td>373450</td>\n",
              "      <td>8.0500</td>\n",
              "      <td>NaN</td>\n",
              "      <td>S</td>\n",
              "    </tr>\n",
              "    <tr>\n",
              "      <th>...</th>\n",
              "      <td>...</td>\n",
              "      <td>...</td>\n",
              "      <td>...</td>\n",
              "      <td>...</td>\n",
              "      <td>...</td>\n",
              "      <td>...</td>\n",
              "      <td>...</td>\n",
              "      <td>...</td>\n",
              "      <td>...</td>\n",
              "      <td>...</td>\n",
              "      <td>...</td>\n",
              "    </tr>\n",
              "    <tr>\n",
              "      <th>887</th>\n",
              "      <td>0</td>\n",
              "      <td>2</td>\n",
              "      <td>Montvila, Rev. Juozas</td>\n",
              "      <td>male</td>\n",
              "      <td>27.0</td>\n",
              "      <td>0</td>\n",
              "      <td>0</td>\n",
              "      <td>211536</td>\n",
              "      <td>13.0000</td>\n",
              "      <td>NaN</td>\n",
              "      <td>S</td>\n",
              "    </tr>\n",
              "    <tr>\n",
              "      <th>888</th>\n",
              "      <td>1</td>\n",
              "      <td>1</td>\n",
              "      <td>Graham, Miss. Margaret Edith</td>\n",
              "      <td>female</td>\n",
              "      <td>19.0</td>\n",
              "      <td>0</td>\n",
              "      <td>0</td>\n",
              "      <td>112053</td>\n",
              "      <td>30.0000</td>\n",
              "      <td>B42</td>\n",
              "      <td>S</td>\n",
              "    </tr>\n",
              "    <tr>\n",
              "      <th>889</th>\n",
              "      <td>0</td>\n",
              "      <td>3</td>\n",
              "      <td>Johnston, Miss. Catherine Helen \"Carrie\"</td>\n",
              "      <td>female</td>\n",
              "      <td>NaN</td>\n",
              "      <td>1</td>\n",
              "      <td>2</td>\n",
              "      <td>W./C. 6607</td>\n",
              "      <td>23.4500</td>\n",
              "      <td>NaN</td>\n",
              "      <td>S</td>\n",
              "    </tr>\n",
              "    <tr>\n",
              "      <th>890</th>\n",
              "      <td>1</td>\n",
              "      <td>1</td>\n",
              "      <td>Behr, Mr. Karl Howell</td>\n",
              "      <td>male</td>\n",
              "      <td>26.0</td>\n",
              "      <td>0</td>\n",
              "      <td>0</td>\n",
              "      <td>111369</td>\n",
              "      <td>30.0000</td>\n",
              "      <td>C148</td>\n",
              "      <td>C</td>\n",
              "    </tr>\n",
              "    <tr>\n",
              "      <th>891</th>\n",
              "      <td>0</td>\n",
              "      <td>3</td>\n",
              "      <td>Dooley, Mr. Patrick</td>\n",
              "      <td>male</td>\n",
              "      <td>32.0</td>\n",
              "      <td>0</td>\n",
              "      <td>0</td>\n",
              "      <td>370376</td>\n",
              "      <td>7.7500</td>\n",
              "      <td>NaN</td>\n",
              "      <td>Q</td>\n",
              "    </tr>\n",
              "  </tbody>\n",
              "</table>\n",
              "<p>891 rows × 11 columns</p>\n",
              "</div>"
            ],
            "text/plain": [
              "             Survived  Pclass  ... Cabin Embarked\n",
              "PassengerId                    ...               \n",
              "1                   0       3  ...   NaN        S\n",
              "2                   1       1  ...   C85        C\n",
              "3                   1       3  ...   NaN        S\n",
              "4                   1       1  ...  C123        S\n",
              "5                   0       3  ...   NaN        S\n",
              "...               ...     ...  ...   ...      ...\n",
              "887                 0       2  ...   NaN        S\n",
              "888                 1       1  ...   B42        S\n",
              "889                 0       3  ...   NaN        S\n",
              "890                 1       1  ...  C148        C\n",
              "891                 0       3  ...   NaN        Q\n",
              "\n",
              "[891 rows x 11 columns]"
            ]
          },
          "metadata": {
            "tags": []
          },
          "execution_count": 4
        }
      ]
    },
    {
      "cell_type": "code",
      "metadata": {
        "id": "kTAXkjfHcGKs"
      },
      "source": [
        "def encodeSex(x):\n",
        "    if x==\"male\":\n",
        "        return 0\n",
        "    if x==\"female\":\n",
        "        return 1\n",
        "titanic_train['SexCode'] = titanic_train['Sex'].apply(encodeSex)\n",
        "titanic_test['SexCode'] = titanic_test['Sex'].apply(encodeSex)"
      ],
      "execution_count": null,
      "outputs": []
    },
    {
      "cell_type": "code",
      "metadata": {
        "id": "2H_vsG1GMNH_"
      },
      "source": [
        "def fillage(train_df):\n",
        "    for i in range(0,2):\n",
        "        for j in range(1,4):\n",
        "            guessedAge = train_df[(train_df['SexCode'] == i) &(train_df['Pclass'] == j)]['Age'].dropna()\n",
        "            guessedAge= guessedAge.median()\n",
        "        \n",
        "            train_df.loc[ (train_df.Age.isnull()) & (train_df.SexCode == i) & (train_df.Pclass == j),\\\n",
        "                    'Age'] = guessedAge\n",
        "    return train_df"
      ],
      "execution_count": null,
      "outputs": []
    },
    {
      "cell_type": "code",
      "metadata": {
        "id": "-Sz7ZFOpMP7F"
      },
      "source": [
        "titanic_train = fillage(titanic_train)\n",
        "titanic_test = fillage(titanic_test)"
      ],
      "execution_count": null,
      "outputs": []
    },
    {
      "cell_type": "code",
      "metadata": {
        "id": "IB82_eEQOVTM",
        "outputId": "bd9eb080-867c-48ce-c307-b8b3e5fb8740",
        "colab": {
          "base_uri": "https://localhost:8080/"
        }
      },
      "source": [
        "titanic_train.isna().sum(axis=0)"
      ],
      "execution_count": null,
      "outputs": [
        {
          "output_type": "execute_result",
          "data": {
            "text/plain": [
              "Survived      0\n",
              "Pclass        0\n",
              "Name          0\n",
              "Sex           0\n",
              "Age           0\n",
              "SibSp         0\n",
              "Parch         0\n",
              "Ticket        0\n",
              "Fare          0\n",
              "Cabin       687\n",
              "Embarked      2\n",
              "SexCode       0\n",
              "dtype: int64"
            ]
          },
          "metadata": {
            "tags": []
          },
          "execution_count": 8
        }
      ]
    },
    {
      "cell_type": "code",
      "metadata": {
        "id": "9eVe7crAG2jb",
        "outputId": "53f70f5e-b57f-435e-beeb-4c7334b443b2",
        "colab": {
          "base_uri": "https://localhost:8080/"
        }
      },
      "source": [
        "#Linear Discriminant Analysis\n",
        "# Selecting the Data that would be relevant for the prediction \n",
        "\n",
        "LDA_data_train = titanic_train[[\"Survived\",\"SexCode\" ,\"Pclass\", \"Age\", \"Fare\"]]\n",
        "x_train = pd.DataFrame(data=LDA_data_train, columns=\n",
        "                 [\"SexCode\" ,\"Pclass\", \"Age\", \"Fare\"])\n",
        "y_train = pd.DataFrame(data=LDA_data_train, columns=\n",
        "                 [\"Survived\"])\n",
        "\n",
        "LDA_data_test = titanic_test[[\"SexCode\" ,\"Pclass\", \"Age\", \"Fare\"]]\n",
        "LDA_data_test.Fare.fillna(LDA_data_test.Fare.mean(), inplace = True)\n",
        "\n",
        "x_test = pd.DataFrame(data=LDA_data_test, columns=\n",
        "                 [\"SexCode\" ,\"Pclass\", \"Age\", \"Fare\"])\n",
        "y_test = []\n"
      ],
      "execution_count": null,
      "outputs": [
        {
          "output_type": "stream",
          "text": [
            "/usr/local/lib/python3.6/dist-packages/pandas/core/series.py:4523: SettingWithCopyWarning: \n",
            "A value is trying to be set on a copy of a slice from a DataFrame\n",
            "\n",
            "See the caveats in the documentation: https://pandas.pydata.org/pandas-docs/stable/user_guide/indexing.html#returning-a-view-versus-a-copy\n",
            "  downcast=downcast,\n"
          ],
          "name": "stderr"
        }
      ]
    },
    {
      "cell_type": "code",
      "metadata": {
        "id": "hH1CsFxDW1f4"
      },
      "source": [
        "# Preprocessing: Data featuring using StandardScaler\n",
        "from sklearn.preprocessing import StandardScaler\n",
        "\n",
        "sc = StandardScaler()\n",
        "x_train = sc.fit_transform(x_train)\n",
        "x_test = sc.transform(x_test)\n",
        "\n"
      ],
      "execution_count": null,
      "outputs": []
    },
    {
      "cell_type": "code",
      "metadata": {
        "id": "0Z1fHWysJL6G"
      },
      "source": [
        "from sklearn.discriminant_analysis import LinearDiscriminantAnalysis as LDA\n",
        "lda = LDA()\n",
        "x_train = lda.fit_transform(x_train, y_train.values.ravel())\n",
        "x_test = lda.transform(x_test)\n",
        "\n",
        "\n",
        "classifier = LinearDiscriminantAnalysis()\n",
        "\n",
        "classifier.fit(x_train, y_train.values.ravel())\n",
        "y_test = classifier.predict(x_test)\n",
        "\n",
        "\n",
        "\n"
      ],
      "execution_count": null,
      "outputs": []
    },
    {
      "cell_type": "code",
      "metadata": {
        "id": "6fiS7t4QTpMt",
        "outputId": "199b3b47-063f-454f-bd85-865e72e7d1e6",
        "colab": {
          "base_uri": "https://localhost:8080/"
        }
      },
      "source": [
        "\n",
        "acc_lda = round(classifier.score(x_train, y_train) * 100, 2)\n",
        "acc_lda"
      ],
      "execution_count": null,
      "outputs": [
        {
          "output_type": "execute_result",
          "data": {
            "text/plain": [
              "79.12"
            ]
          },
          "metadata": {
            "tags": []
          },
          "execution_count": 12
        }
      ]
    },
    {
      "cell_type": "code",
      "metadata": {
        "id": "YWJ8otHNAwgg"
      },
      "source": [
        "submission = pd.read_csv('/content/drive/Shared drives/AI/gender_submission.csv')\n",
        "submission.Survived.fillna(0, inplace= True)\n",
        "\n",
        "y_result = submission['Survived']"
      ],
      "execution_count": null,
      "outputs": []
    },
    {
      "cell_type": "code",
      "metadata": {
        "id": "bx70Wjr_4NFS",
        "outputId": "4ba969e5-f491-48e9-d491-2b32122bab89",
        "colab": {
          "base_uri": "https://localhost:8080/"
        }
      },
      "source": [
        "from sklearn.metrics import accuracy_score\n",
        "accu_score = round(accuracy_score(y_test, y_result) * 100,2)\n",
        "print(f'Accuracy of LDA is : {accu_score}')\n"
      ],
      "execution_count": null,
      "outputs": [
        {
          "output_type": "stream",
          "text": [
            "Accuracy of LDA is : 98.09\n"
          ],
          "name": "stdout"
        }
      ]
    },
    {
      "cell_type": "code",
      "metadata": {
        "id": "jgUTbDsFGOL5",
        "outputId": "ff074216-3114-476f-94e3-f6ee2650957c",
        "colab": {
          "base_uri": "https://localhost:8080/",
          "height": 900
        }
      },
      "source": [
        "###------Method using MinMaxScaler\n",
        "\n",
        "plt.rcParams['figure.figsize'] = [9, 6]\n",
        "plt.rcParams['figure.dpi'] = 100 # 200 e.g. is really fine, but slower\n",
        "\n",
        "completeTrainDataSet = pd.DataFrame(data=titanic_train, columns=[\"SexCode\", \"Pclass\", \"Age\", \"SibSp\", \"Parch\", \"Fare\", \"Survived\"])\n",
        "\n",
        "completeTrainDataSet.Age.fillna(completeTrainDataSet.Age.mean(), inplace=True)\n",
        "\n",
        "scaler = MinMaxScaler()#scaler has a method that returns normalized values (makes them range from 0 to 1) The goal is to scale data to avoid scale-related bias\n",
        "\n",
        "trainX = pd.DataFrame(data=completeTrainDataSet, columns=[\"SexCode\", \"Pclass\", \"Age\", \"SibSp\", \"Parch\", \"Fare\"])#Features\n",
        "trainY = pd.DataFrame(data=completeTrainDataSet, columns=[\"Survived\"])#Target class\n",
        "\n",
        "testX = pd.DataFrame(data=titanic_test, columns=[\"SexCode\", \"Pclass\", \"Age\", \"SibSp\", \"Parch\", \"Fare\"])#testX will be used to test our model (make predictions)\n",
        "\n",
        "testX.Fare.fillna(testX.Fare.mean(), inplace=True)#Remove NAs by replacing them with the mean\n",
        "testX.Age.fillna(testX.Age.mean(), inplace=True)#Remove NAs by replacing them with the mean\n",
        "\n",
        "trainX = scaler.fit_transform(trainX)#Use the same scaler to scale both train and test data sets\n",
        "testX = scaler.fit_transform(testX)\n",
        "\n",
        "#submission = pd.read_csv('gender_submission.csv')#Read once and for all the solution (so we don't have to load it everytime)\n",
        "testY = submission.Survived\n",
        "\n",
        "x = np.zeros(20)#We will plot data about 20 different values of K\n",
        "y = np.zeros(20)\n",
        "z = np.zeros(20)\n",
        "\n",
        "for i, k in enumerate(range(1, 40, 2)):\n",
        "    model = KNeighborsClassifier(n_neighbors=k)#i is the index, we test several values of k and save the accuracy of the prediction given k\n",
        "    model.fit(trainX, trainY.values.ravel())\n",
        "    predictedY = model.predict(testX)\n",
        "    x[i] = k#given k\n",
        "    y[i] = accuracy_score(testY, predictedY)#How is the prediction\n",
        "    z[i] = round(model.score(trainX, trainY), 2)#How is the training score\n",
        "    print(f\"For k = {k}, prediction accuracy is {y[i]} and training score is {z[i]}\")\n",
        "\n",
        "plt.plot(x, y, \"rs-\", label=\"Prediction score for the KNN model\")\n",
        "plt.plot(x, z, \"bo-\", label=\"Training score for the KNN model\")\n",
        "plt.legend()\n",
        "plt.xlabel(\"K value for K Nearest Neighbors technique (odd numbers from 1 to 39)\")\n",
        "plt.show()"
      ],
      "execution_count": null,
      "outputs": [
        {
          "output_type": "stream",
          "text": [
            "For k = 1, prediction accuracy is 0.7511961722488039 and training score is 0.98\n",
            "For k = 3, prediction accuracy is 0.7990430622009569 and training score is 0.89\n",
            "For k = 5, prediction accuracy is 0.8444976076555024 and training score is 0.86\n",
            "For k = 7, prediction accuracy is 0.8660287081339713 and training score is 0.84\n",
            "For k = 9, prediction accuracy is 0.8995215311004785 and training score is 0.84\n",
            "For k = 11, prediction accuracy is 0.8755980861244019 and training score is 0.83\n",
            "For k = 13, prediction accuracy is 0.8899521531100478 and training score is 0.83\n",
            "For k = 15, prediction accuracy is 0.9090909090909091 and training score is 0.83\n",
            "For k = 17, prediction accuracy is 0.937799043062201 and training score is 0.83\n",
            "For k = 19, prediction accuracy is 0.930622009569378 and training score is 0.82\n",
            "For k = 21, prediction accuracy is 0.9282296650717703 and training score is 0.81\n",
            "For k = 23, prediction accuracy is 0.930622009569378 and training score is 0.81\n",
            "For k = 25, prediction accuracy is 0.9330143540669856 and training score is 0.81\n",
            "For k = 27, prediction accuracy is 0.9282296650717703 and training score is 0.81\n",
            "For k = 29, prediction accuracy is 0.9258373205741627 and training score is 0.82\n",
            "For k = 31, prediction accuracy is 0.9258373205741627 and training score is 0.81\n",
            "For k = 33, prediction accuracy is 0.9330143540669856 and training score is 0.81\n",
            "For k = 35, prediction accuracy is 0.9449760765550239 and training score is 0.81\n",
            "For k = 37, prediction accuracy is 0.9473684210526315 and training score is 0.81\n",
            "For k = 39, prediction accuracy is 0.9545454545454546 and training score is 0.81\n"
          ],
          "name": "stdout"
        },
        {
          "output_type": "display_data",
          "data": {
            "image/png": "[encoded data removed]",
            "text/plain": [
              "<Figure size 900x600 with 1 Axes>"
            ]
          },
          "metadata": {
            "tags": [],
            "needs_background": "light"
          }
        }
      ]
    },
    {
      "cell_type": "code",
      "metadata": {
        "id": "8deEX2T7raG5",
        "outputId": "454e207c-45ae-46b4-84e1-862a497ea0cc",
        "colab": {
          "base_uri": "https://localhost:8080/",
          "height": 238
        }
      },
      "source": [
        "titanic_train.head()"
      ],
      "execution_count": null,
      "outputs": [
        {
          "output_type": "execute_result",
          "data": {
            "text/html": [
              "<div>\n",
              "<style scoped>\n",
              "    .dataframe tbody tr th:only-of-type {\n",
              "        vertical-align: middle;\n",
              "    }\n",
              "\n",
              "    .dataframe tbody tr th {\n",
              "        vertical-align: top;\n",
              "    }\n",
              "\n",
              "    .dataframe thead th {\n",
              "        text-align: right;\n",
              "    }\n",
              "</style>\n",
              "<table border=\"1\" class=\"dataframe\">\n",
              "  <thead>\n",
              "    <tr style=\"text-align: right;\">\n",
              "      <th></th>\n",
              "      <th>Survived</th>\n",
              "      <th>Pclass</th>\n",
              "      <th>Name</th>\n",
              "      <th>Sex</th>\n",
              "      <th>Age</th>\n",
              "      <th>SibSp</th>\n",
              "      <th>Parch</th>\n",
              "      <th>Ticket</th>\n",
              "      <th>Fare</th>\n",
              "      <th>Cabin</th>\n",
              "      <th>Embarked</th>\n",
              "      <th>SexCode</th>\n",
              "    </tr>\n",
              "    <tr>\n",
              "      <th>PassengerId</th>\n",
              "      <th></th>\n",
              "      <th></th>\n",
              "      <th></th>\n",
              "      <th></th>\n",
              "      <th></th>\n",
              "      <th></th>\n",
              "      <th></th>\n",
              "      <th></th>\n",
              "      <th></th>\n",
              "      <th></th>\n",
              "      <th></th>\n",
              "      <th></th>\n",
              "    </tr>\n",
              "  </thead>\n",
              "  <tbody>\n",
              "    <tr>\n",
              "      <th>1</th>\n",
              "      <td>0</td>\n",
              "      <td>3</td>\n",
              "      <td>Braund, Mr. Owen Harris</td>\n",
              "      <td>male</td>\n",
              "      <td>22.0</td>\n",
              "      <td>1</td>\n",
              "      <td>0</td>\n",
              "      <td>A/5 21171</td>\n",
              "      <td>7.2500</td>\n",
              "      <td>NaN</td>\n",
              "      <td>S</td>\n",
              "      <td>0</td>\n",
              "    </tr>\n",
              "    <tr>\n",
              "      <th>2</th>\n",
              "      <td>1</td>\n",
              "      <td>1</td>\n",
              "      <td>Cumings, Mrs. John Bradley (Florence Briggs Th...</td>\n",
              "      <td>female</td>\n",
              "      <td>38.0</td>\n",
              "      <td>1</td>\n",
              "      <td>0</td>\n",
              "      <td>PC 17599</td>\n",
              "      <td>71.2833</td>\n",
              "      <td>C85</td>\n",
              "      <td>C</td>\n",
              "      <td>1</td>\n",
              "    </tr>\n",
              "    <tr>\n",
              "      <th>3</th>\n",
              "      <td>1</td>\n",
              "      <td>3</td>\n",
              "      <td>Heikkinen, Miss. Laina</td>\n",
              "      <td>female</td>\n",
              "      <td>26.0</td>\n",
              "      <td>0</td>\n",
              "      <td>0</td>\n",
              "      <td>STON/O2. 3101282</td>\n",
              "      <td>7.9250</td>\n",
              "      <td>NaN</td>\n",
              "      <td>S</td>\n",
              "      <td>1</td>\n",
              "    </tr>\n",
              "    <tr>\n",
              "      <th>4</th>\n",
              "      <td>1</td>\n",
              "      <td>1</td>\n",
              "      <td>Futrelle, Mrs. Jacques Heath (Lily May Peel)</td>\n",
              "      <td>female</td>\n",
              "      <td>35.0</td>\n",
              "      <td>1</td>\n",
              "      <td>0</td>\n",
              "      <td>113803</td>\n",
              "      <td>53.1000</td>\n",
              "      <td>C123</td>\n",
              "      <td>S</td>\n",
              "      <td>1</td>\n",
              "    </tr>\n",
              "    <tr>\n",
              "      <th>5</th>\n",
              "      <td>0</td>\n",
              "      <td>3</td>\n",
              "      <td>Allen, Mr. William Henry</td>\n",
              "      <td>male</td>\n",
              "      <td>35.0</td>\n",
              "      <td>0</td>\n",
              "      <td>0</td>\n",
              "      <td>373450</td>\n",
              "      <td>8.0500</td>\n",
              "      <td>NaN</td>\n",
              "      <td>S</td>\n",
              "      <td>0</td>\n",
              "    </tr>\n",
              "  </tbody>\n",
              "</table>\n",
              "</div>"
            ],
            "text/plain": [
              "             Survived  Pclass  ... Embarked SexCode\n",
              "PassengerId                    ...                 \n",
              "1                   0       3  ...        S       0\n",
              "2                   1       1  ...        C       1\n",
              "3                   1       3  ...        S       1\n",
              "4                   1       1  ...        S       1\n",
              "5                   0       3  ...        S       0\n",
              "\n",
              "[5 rows x 12 columns]"
            ]
          },
          "metadata": {
            "tags": []
          },
          "execution_count": 16
        }
      ]
    },
    {
      "cell_type": "code",
      "metadata": {
        "id": "l-RQaqHUzsOZ"
      },
      "source": [
        "train_df = titanic_train.drop(['Name', \"Cabin\",\"Ticket\",\"Sex\",\"SibSp\",\"Parch\"], axis=1)\n",
        "test_df = titanic_test.drop(['Name', \"Cabin\",\"Ticket\",\"Sex\",\"SibSp\",\"Parch\"], axis=1)"
      ],
      "execution_count": null,
      "outputs": []
    },
    {
      "cell_type": "code",
      "metadata": {
        "id": "xDdAw1DZ0EQF"
      },
      "source": [
        "freq_port = train_df.Embarked.dropna().mode()[0]\n",
        "train_df['Embarked'] = train_df['Embarked'].fillna(freq_port)"
      ],
      "execution_count": null,
      "outputs": []
    },
    {
      "cell_type": "code",
      "metadata": {
        "id": "2ONYiZlM2WqX"
      },
      "source": [
        "train_df['Embarked'] = train_df['Embarked'].map( {'S': 0, 'C': 1, 'Q': 2} ).astype(int)\n",
        "test_df['Embarked'] = test_df['Embarked'].map( {'S': 0, 'C': 1, 'Q': 2} ).astype(int)"
      ],
      "execution_count": null,
      "outputs": []
    },
    {
      "cell_type": "code",
      "metadata": {
        "id": "Uu9HRjmu208_"
      },
      "source": [
        "train_df.loc[ train_df['Fare'] <= 7.91, 'Fare'] = 0\n",
        "train_df.loc[(train_df['Fare'] > 7.91) & (train_df['Fare'] <= 14.454), 'Fare'] = 1\n",
        "train_df.loc[(train_df['Fare'] > 14.454) & (train_df['Fare'] <= 31), 'Fare']   = 2\n",
        "train_df.loc[ train_df['Fare'] > 31, 'Fare'] = 3\n",
        "train_df['Fare'] = train_df['Fare'].astype(int)"
      ],
      "execution_count": null,
      "outputs": []
    },
    {
      "cell_type": "code",
      "metadata": {
        "id": "u62XAhtu7mqu"
      },
      "source": [
        "test_df.Fare.fillna(test_df.Fare.mean(), inplace = True)\n",
        "test_df.loc[test_df['Fare'] <= 7.91, 'Fare'] = 0\n",
        "test_df.loc[(test_df['Fare'] > 7.91) & (test_df['Fare'] <= 14.454), 'Fare'] = 1\n",
        "test_df.loc[(test_df['Fare'] > 14.454) & (test_df['Fare'] <= 31), 'Fare']   = 2\n",
        "test_df.loc[ test_df['Fare'] > 31, 'Fare'] = 3\n",
        "test_df['Fare'] = test_df['Fare'].astype(int)"
      ],
      "execution_count": null,
      "outputs": []
    },
    {
      "cell_type": "code",
      "metadata": {
        "id": "EOB6fB3c3S3D"
      },
      "source": [
        "train_df.loc[ train_df['Age'] <= 16, 'Age'] = 0\n",
        "train_df.loc[(train_df['Age'] > 16) & (train_df['Age'] <= 32), 'Age'] = 1\n",
        "train_df.loc[(train_df['Age'] > 32) & (train_df['Age'] <= 48), 'Age'] = 2\n",
        "train_df.loc[(train_df['Age'] > 48) & (train_df['Age'] <= 64), 'Age'] = 3\n",
        "train_df.loc[ train_df['Age'] > 64, 'Age']\n",
        "train_df['Age'] = train_df['Age'].astype(int)"
      ],
      "execution_count": null,
      "outputs": []
    },
    {
      "cell_type": "code",
      "metadata": {
        "id": "iJWQo78L83Mr"
      },
      "source": [
        "test_df.loc[ test_df['Age'] <= 16, 'Age'] = 0\n",
        "test_df.loc[(test_df['Age'] > 16) & (test_df['Age'] <= 32), 'Age'] = 1\n",
        "test_df.loc[(test_df['Age'] > 32) & (test_df['Age'] <= 48), 'Age'] = 2\n",
        "test_df.loc[(test_df['Age'] > 48) & (test_df['Age'] <= 64), 'Age'] = 3\n",
        "test_df.loc[ test_df['Age'] > 64, 'Age']\n",
        "test_df['Age'] = test_df['Age'].astype(int)"
      ],
      "execution_count": null,
      "outputs": []
    },
    {
      "cell_type": "code",
      "metadata": {
        "id": "46lxpi_34fMp"
      },
      "source": [
        "X = train_df.drop([\"Survived\"], axis=1)\n",
        "Y = train_df[\"Survived\"]\n",
        "X.shape, Y.shape\n",
        "X_test=test_df"
      ],
      "execution_count": null,
      "outputs": []
    },
    {
      "cell_type": "code",
      "metadata": {
        "id": "t0LJ2W1y4z5L",
        "outputId": "6e486974-6689-4263-e759-eb70998ee6d9",
        "colab": {
          "base_uri": "https://localhost:8080/"
        }
      },
      "source": [
        "X.isna().sum(axis=0)"
      ],
      "execution_count": null,
      "outputs": [
        {
          "output_type": "execute_result",
          "data": {
            "text/plain": [
              "Pclass      0\n",
              "Age         0\n",
              "Fare        0\n",
              "Embarked    0\n",
              "SexCode     0\n",
              "dtype: int64"
            ]
          },
          "metadata": {
            "tags": []
          },
          "execution_count": 353
        }
      ]
    },
    {
      "cell_type": "code",
      "metadata": {
        "id": "za3ZEZZe9nCT",
        "outputId": "498d50b3-f623-44d3-e401-bc93c801bcda",
        "colab": {
          "base_uri": "https://localhost:8080/"
        }
      },
      "source": [
        "X_test.isna().sum(axis=0)"
      ],
      "execution_count": null,
      "outputs": [
        {
          "output_type": "execute_result",
          "data": {
            "text/plain": [
              "Pclass      0\n",
              "Age         0\n",
              "Fare        0\n",
              "Embarked    0\n",
              "SexCode     0\n",
              "dtype: int64"
            ]
          },
          "metadata": {
            "tags": []
          },
          "execution_count": 354
        }
      ]
    },
    {
      "cell_type": "code",
      "metadata": {
        "id": "Xo-gOQ1aUgbe",
        "outputId": "78d331f6-a1c4-4254-f2b0-4e4dfb9c7ab4",
        "colab": {
          "base_uri": "https://localhost:8080/",
          "height": 450
        }
      },
      "source": [
        "X_test"
      ],
      "execution_count": null,
      "outputs": [
        {
          "output_type": "execute_result",
          "data": {
            "text/html": [
              "<div>\n",
              "<style scoped>\n",
              "    .dataframe tbody tr th:only-of-type {\n",
              "        vertical-align: middle;\n",
              "    }\n",
              "\n",
              "    .dataframe tbody tr th {\n",
              "        vertical-align: top;\n",
              "    }\n",
              "\n",
              "    .dataframe thead th {\n",
              "        text-align: right;\n",
              "    }\n",
              "</style>\n",
              "<table border=\"1\" class=\"dataframe\">\n",
              "  <thead>\n",
              "    <tr style=\"text-align: right;\">\n",
              "      <th></th>\n",
              "      <th>Pclass</th>\n",
              "      <th>Age</th>\n",
              "      <th>Fare</th>\n",
              "      <th>Embarked</th>\n",
              "      <th>SexCode</th>\n",
              "    </tr>\n",
              "    <tr>\n",
              "      <th>PassengerId</th>\n",
              "      <th></th>\n",
              "      <th></th>\n",
              "      <th></th>\n",
              "      <th></th>\n",
              "      <th></th>\n",
              "    </tr>\n",
              "  </thead>\n",
              "  <tbody>\n",
              "    <tr>\n",
              "      <th>892</th>\n",
              "      <td>3</td>\n",
              "      <td>2</td>\n",
              "      <td>0</td>\n",
              "      <td>2</td>\n",
              "      <td>0</td>\n",
              "    </tr>\n",
              "    <tr>\n",
              "      <th>893</th>\n",
              "      <td>3</td>\n",
              "      <td>2</td>\n",
              "      <td>0</td>\n",
              "      <td>0</td>\n",
              "      <td>1</td>\n",
              "    </tr>\n",
              "    <tr>\n",
              "      <th>894</th>\n",
              "      <td>2</td>\n",
              "      <td>3</td>\n",
              "      <td>1</td>\n",
              "      <td>2</td>\n",
              "      <td>0</td>\n",
              "    </tr>\n",
              "    <tr>\n",
              "      <th>895</th>\n",
              "      <td>3</td>\n",
              "      <td>1</td>\n",
              "      <td>1</td>\n",
              "      <td>0</td>\n",
              "      <td>0</td>\n",
              "    </tr>\n",
              "    <tr>\n",
              "      <th>896</th>\n",
              "      <td>3</td>\n",
              "      <td>1</td>\n",
              "      <td>1</td>\n",
              "      <td>0</td>\n",
              "      <td>1</td>\n",
              "    </tr>\n",
              "    <tr>\n",
              "      <th>...</th>\n",
              "      <td>...</td>\n",
              "      <td>...</td>\n",
              "      <td>...</td>\n",
              "      <td>...</td>\n",
              "      <td>...</td>\n",
              "    </tr>\n",
              "    <tr>\n",
              "      <th>1305</th>\n",
              "      <td>3</td>\n",
              "      <td>1</td>\n",
              "      <td>1</td>\n",
              "      <td>0</td>\n",
              "      <td>0</td>\n",
              "    </tr>\n",
              "    <tr>\n",
              "      <th>1306</th>\n",
              "      <td>1</td>\n",
              "      <td>2</td>\n",
              "      <td>3</td>\n",
              "      <td>1</td>\n",
              "      <td>1</td>\n",
              "    </tr>\n",
              "    <tr>\n",
              "      <th>1307</th>\n",
              "      <td>3</td>\n",
              "      <td>2</td>\n",
              "      <td>0</td>\n",
              "      <td>0</td>\n",
              "      <td>0</td>\n",
              "    </tr>\n",
              "    <tr>\n",
              "      <th>1308</th>\n",
              "      <td>3</td>\n",
              "      <td>1</td>\n",
              "      <td>1</td>\n",
              "      <td>0</td>\n",
              "      <td>0</td>\n",
              "    </tr>\n",
              "    <tr>\n",
              "      <th>1309</th>\n",
              "      <td>3</td>\n",
              "      <td>1</td>\n",
              "      <td>2</td>\n",
              "      <td>1</td>\n",
              "      <td>0</td>\n",
              "    </tr>\n",
              "  </tbody>\n",
              "</table>\n",
              "<p>418 rows × 5 columns</p>\n",
              "</div>"
            ],
            "text/plain": [
              "             Pclass  Age  Fare  Embarked  SexCode\n",
              "PassengerId                                      \n",
              "892               3    2     0         2        0\n",
              "893               3    2     0         0        1\n",
              "894               2    3     1         2        0\n",
              "895               3    1     1         0        0\n",
              "896               3    1     1         0        1\n",
              "...             ...  ...   ...       ...      ...\n",
              "1305              3    1     1         0        0\n",
              "1306              1    2     3         1        1\n",
              "1307              3    2     0         0        0\n",
              "1308              3    1     1         0        0\n",
              "1309              3    1     2         1        0\n",
              "\n",
              "[418 rows x 5 columns]"
            ]
          },
          "metadata": {
            "tags": []
          },
          "execution_count": 355
        }
      ]
    },
    {
      "cell_type": "code",
      "metadata": {
        "id": "Nsp621WR5kyX"
      },
      "source": [
        "xDataTrain, xDataTest, yDataTrain, yDataTest = train_test_split(X, Y, test_size=0.20, random_state=42)"
      ],
      "execution_count": null,
      "outputs": []
    },
    {
      "cell_type": "code",
      "metadata": {
        "id": "RwKJ9p535nKm",
        "outputId": "67b600eb-356a-4297-a371-8c4d38a286a9",
        "colab": {
          "base_uri": "https://localhost:8080/"
        }
      },
      "source": [
        "yDataTrain.shape, xDataTrain.shape, xDataTest"
      ],
      "execution_count": null,
      "outputs": [
        {
          "output_type": "execute_result",
          "data": {
            "text/plain": [
              "((712,), (712, 5),              Pclass  Age  Fare  Embarked  SexCode\n",
              " PassengerId                                      \n",
              " 710               3    1     2         1        0\n",
              " 440               2    1     1         0        0\n",
              " 841               3    1     1         0        0\n",
              " 721               2    0     3         0        1\n",
              " 40                3    0     1         1        1\n",
              " ...             ...  ...   ...       ...      ...\n",
              " 434               3    1     0         0        0\n",
              " 774               3    1     0         1        0\n",
              " 26                3    2     3         0        1\n",
              " 85                2    1     1         0        1\n",
              " 11                3    0     2         0        1\n",
              " \n",
              " [179 rows x 5 columns])"
            ]
          },
          "metadata": {
            "tags": []
          },
          "execution_count": 357
        }
      ]
    },
    {
      "cell_type": "code",
      "metadata": {
        "id": "jgOmQCn45uU7"
      },
      "source": [
        "logreg = LogisticRegression()\n",
        "logreg.fit(xDataTrain, yDataTrain)\n",
        "Y_pred = logreg.predict(xDataTest)"
      ],
      "execution_count": null,
      "outputs": []
    },
    {
      "cell_type": "code",
      "metadata": {
        "id": "REgWqxat50BD",
        "outputId": "7ce1d078-5453-48fc-eb0a-a6b4f05025ca",
        "colab": {
          "base_uri": "https://localhost:8080/"
        }
      },
      "source": [
        "accLogTrain = round(logreg.score(xDataTrain, yDataTrain) * 100, 2)\n",
        "accLogTrain"
      ],
      "execution_count": null,
      "outputs": [
        {
          "output_type": "execute_result",
          "data": {
            "text/plain": [
              "78.65"
            ]
          },
          "metadata": {
            "tags": []
          },
          "execution_count": 359
        }
      ]
    },
    {
      "cell_type": "code",
      "metadata": {
        "id": "WlX4xDqK6Ii4",
        "outputId": "5cf4317b-d9b8-4733-891a-58d130bf906a",
        "colab": {
          "base_uri": "https://localhost:8080/"
        }
      },
      "source": [
        "accLogTest=round(logreg.score(xDataTest, yDataTest) * 100, 2)\n",
        "accLogTest"
      ],
      "execution_count": null,
      "outputs": [
        {
          "output_type": "execute_result",
          "data": {
            "text/plain": [
              "78.21"
            ]
          },
          "metadata": {
            "tags": []
          },
          "execution_count": 360
        }
      ]
    },
    {
      "cell_type": "code",
      "metadata": {
        "id": "330hKyheEwM5"
      },
      "source": [
        "Y_pred = logreg.predict(X_test)"
      ],
      "execution_count": null,
      "outputs": []
    },
    {
      "cell_type": "code",
      "metadata": {
        "id": "KUY7zvM-MWkx"
      },
      "source": [
        "model_test = pd.read_csv ('/content/drive/Shared drives/AI/gender_submission.csv', index_col=\"PassengerId\")"
      ],
      "execution_count": null,
      "outputs": []
    },
    {
      "cell_type": "code",
      "metadata": {
        "id": "AJ235-7uNGS0",
        "outputId": "1de25998-06de-4a92-b9f0-b95bc163a3f6",
        "colab": {
          "base_uri": "https://localhost:8080/"
        }
      },
      "source": [
        "print('Accuracy of logistic regression is : ' + str(accuracy_score(Y_pred, model_test)))"
      ],
      "execution_count": null,
      "outputs": [
        {
          "output_type": "stream",
          "text": [
            "Accuracy of logistic regression is : 1.0\n"
          ],
          "name": "stdout"
        }
      ]
    },
    {
      "cell_type": "code",
      "metadata": {
        "id": "zzF63IeUQPce"
      },
      "source": [
        ""
      ],
      "execution_count": null,
      "outputs": []
    }
  ]
}